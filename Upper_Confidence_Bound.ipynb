{
  "nbformat": 4,
  "nbformat_minor": 0,
  "metadata": {
    "colab": {
      "name": "Upper Confidence Bound.ipynb",
      "provenance": []
    },
    "kernelspec": {
      "name": "python3",
      "display_name": "Python 3"
    }
  },
  "cells": [
    {
      "cell_type": "code",
      "metadata": {
        "id": "G5wUZFLPAaXj"
      },
      "source": [
        "import numpy as np\n",
        "import pandas as pd\n",
        "import matplotlib.pyplot as plt"
      ],
      "execution_count": 1,
      "outputs": []
    },
    {
      "cell_type": "code",
      "metadata": {
        "id": "Y2J2W2pmAj9o"
      },
      "source": [
        "dataset = pd.read_csv('/content/Ads_CTR_Optimisation.csv')"
      ],
      "execution_count": 2,
      "outputs": []
    },
    {
      "cell_type": "code",
      "metadata": {
        "id": "Briv00gAA3z7"
      },
      "source": [
        "import math\n",
        "N = 1000\n",
        "# we can change this value to see the least number of n required by algorithm to get the correct answer\n",
        "# in this case, this can be considered 1000\n",
        "d = 10\n",
        "ads_selected = []\n",
        "# sequence at which each ad is selected, which is not 0,1,2... it will be randomly selected\n",
        "# but in the first step, 0,1,2... will be followed first\n",
        "\n",
        "#number of times ad i was selected upto round N, suppose ad 3 is selected so 3rd will become +1 and so on\n",
        "number_of_selections = [0]*d \n",
        "\n",
        "#sums of rewards od ith ad upto round n\n",
        "sums_of_rewards = [0]*d \n",
        "\n",
        "total = 0\n",
        "\n",
        "for n in range(0,N): # to iterate through rows\n",
        "  # we will find UCB of each ad, and then compare to get maximum upper bound. for this ad is initialised\n",
        "  ad = 0\n",
        "  # will find max upper bound, first initialised as 0, will change when we find UCB of different ads\n",
        "  max_upper_bound = 0\n",
        "\n",
        "  for i in range(0,d): # to iterate through columns\n",
        "    # in first step, we dont have any selections, so Ni will be zero, so we need if else\n",
        "    if(number_of_selections[i]>0): # i is the index of ad we are dealing with \n",
        "    # if the index of that was previously selected, we will have numberOfSelections more than 0\n",
        "      #now we are dealing with situation when that ad wa salready selected previously\n",
        "\n",
        "      average = sums_of_rewards[i]/number_of_selections[i]\n",
        "      delta = math.sqrt(3/2 * math.log(n+1)/ number_of_selections[i]) \n",
        "\n",
        "      #n starts from 0, so we add +1 so that log doesnt go to infinity\n",
        "\n",
        "      upper = average + delta\n",
        "\n",
        "    else: \n",
        "       # here we need to apply a trick to make sure we select all 10 ads first 10 rounds and then run UCB algo so that Ni is not zero\n",
        "       # to do this, we will have a max upper bound to maximum value\n",
        "      upper = 1e400\n",
        "\n",
        "    if(max_upper_bound < upper):\n",
        "      max_upper_bound = upper # whole purpose of this is to determine which ad to select next\n",
        "      ad = i #ad with highest upper bound\n",
        "      \n",
        "       #to make sure we select ad with highest UCB\n",
        "  ads_selected.append(ad) # ad is selected with this sequence\n",
        "  number_of_selections[ad] += 1 # how many times that particular ad is selected\n",
        "  sums_of_rewards[ad] += dataset.values[n,ad] # reward we got when we chose that ad\n",
        "  total = total + dataset.values[n, ad]\n",
        "\n",
        "\n"
      ],
      "execution_count": 3,
      "outputs": []
    },
    {
      "cell_type": "code",
      "metadata": {
        "colab": {
          "base_uri": "https://localhost:8080/"
        },
        "id": "TdsPnYCeRsFb",
        "outputId": "fdb863a3-cadb-4591-c7f2-24b1ced8b7b9"
      },
      "source": [
        "print(ads_selected)\n",
        "# this will be equal to N, since that is the number of users\n"
      ],
      "execution_count": 4,
      "outputs": [
        {
          "output_type": "stream",
          "text": [
            "[0, 1, 2, 3, 4, 5, 6, 7, 8, 9, 0, 1, 2, 3, 4, 5, 6, 7, 8, 9, 0, 0, 1, 2, 3, 4, 5, 6, 7, 8, 8, 9, 0, 8, 1, 2, 3, 4, 5, 6, 6, 7, 7, 7, 9, 7, 0, 6, 8, 1, 2, 3, 4, 4, 4, 4, 4, 5, 9, 7, 0, 0, 6, 8, 4, 0, 7, 1, 1, 2, 3, 5, 9, 4, 1, 6, 8, 0, 7, 2, 3, 5, 9, 4, 1, 6, 8, 0, 7, 7, 7, 7, 7, 7, 4, 2, 3, 5, 9, 1, 6, 8, 0, 0, 7, 0, 4, 1, 6, 8, 2, 3, 5, 9, 7, 0, 4, 4, 4, 7, 7, 7, 7, 1, 6, 8, 2, 3, 5, 9, 0, 7, 7, 4, 7, 7, 7, 1, 6, 8, 0, 4, 4, 2, 3, 5, 9, 4, 7, 0, 7, 1, 1, 1, 6, 6, 6, 6, 6, 8, 4, 2, 3, 5, 9, 7, 7, 7, 0, 6, 4, 1, 1, 1, 8, 7, 2, 3, 5, 9, 4, 0, 1, 1, 1, 6, 7, 8, 4, 1, 2, 3, 5, 9, 0, 6, 7, 8, 4, 7, 1, 0, 6, 2, 3, 5, 9, 7, 7, 7, 7, 4, 4, 4, 4, 4, 7, 8, 1, 0, 6, 6, 6, 7, 4, 2, 3, 5, 9, 1, 6, 8, 7, 0, 4, 4, 4, 4, 4, 2, 3, 5, 9, 1, 6, 7, 4, 8, 0, 7, 4, 4, 4, 1, 6, 2, 3, 5, 9, 0, 0, 0, 7, 8, 4, 0, 0, 0, 1, 6, 7, 4, 2, 3, 5, 9, 0, 8, 7, 1, 6, 4, 0, 7, 7, 7, 7, 7, 2, 3, 5, 9, 8, 4, 1, 6, 6, 6, 7, 7, 7, 0, 6, 7, 4, 1, 1, 1, 2, 2, 2, 3, 5, 9, 2, 8, 7, 0, 1, 6, 4, 7, 2, 8, 3, 5, 9, 9, 9, 9, 4, 0, 1, 6, 7, 4, 7, 0, 1, 6, 2, 8, 9, 3, 5, 4, 7, 0, 0, 0, 1, 6, 2, 8, 9, 4, 0, 3, 5, 7, 1, 6, 7, 4, 0, 2, 8, 9, 3, 5, 7, 4, 4, 4, 4, 4, 1, 6, 4, 0, 7, 2, 8, 9, 4, 3, 5, 1, 6, 6, 6, 0, 6, 7, 4, 4, 4, 2, 8, 8, 8, 8, 9, 4, 1, 7, 0, 6, 3, 5, 7, 7, 7, 4, 8, 1, 2, 9, 7, 0, 0, 0, 0, 0, 0, 0, 0, 0, 6, 3, 5, 4, 4, 4, 7, 4, 4, 4, 0, 1, 1, 1, 8, 8, 8, 8, 1, 6, 4, 2, 9, 7, 3, 3, 3, 3, 5, 0, 4, 4, 4, 8, 1, 6, 4, 7, 2, 3, 9, 0, 5, 4, 7, 1, 6, 8, 0, 2, 3, 9, 4, 7, 7, 7, 7, 1, 6, 8, 5, 0, 4, 7, 2, 3, 9, 1, 6, 4, 0, 8, 7, 5, 4, 1, 6, 6, 6, 6, 2, 3, 3, 3, 3, 9, 7, 0, 8, 4, 4, 4, 4, 4, 4, 3, 5, 7, 6, 1, 1, 1, 1, 0, 4, 2, 9, 8, 8, 8, 8, 7, 4, 4, 4, 4, 4, 4, 4, 4, 4, 4, 4, 4, 4, 4, 4, 4, 3, 1, 6, 4, 4, 4, 0, 5, 4, 4, 4, 8, 7, 7, 7, 2, 9, 4, 7, 0, 1, 6, 3, 4, 5, 5, 5, 5, 7, 8, 2, 5, 9, 4, 4, 4, 4, 4, 4, 4, 4, 0, 0, 0, 0, 4, 4, 4, 4, 4, 4, 4, 4, 1, 6, 4, 7, 7, 7, 3, 7, 8, 4, 0, 1, 6, 2, 5, 9, 9, 9, 9, 7, 4, 4, 4, 4, 4, 4, 4, 4, 4, 4, 4, 4, 4, 4, 4, 4, 3, 9, 4, 8, 0, 0, 0, 0, 0, 0, 0, 7, 1, 6, 6, 6, 6, 4, 4, 4, 4, 4, 4, 2, 5, 7, 7, 7, 7, 7, 7, 7, 7, 7, 7, 7, 7, 3, 9, 4, 0, 8, 6, 1, 4, 4, 4, 4, 4, 4, 4, 4, 4, 4, 4, 7, 7, 7, 2, 5, 7, 7, 7, 0, 0, 0, 0, 4, 7, 6, 3, 9, 8, 1, 1, 1, 1, 4, 7, 0, 4, 4, 4, 2, 5, 1, 6, 4, 4, 4, 4, 4, 4, 4, 4, 8, 7, 4, 3, 9, 0, 4, 7, 1, 6, 6, 6, 6, 2, 5, 4, 4, 4, 4, 4, 4, 4, 4, 8, 4, 0, 3, 3, 3, 3, 9, 7, 4, 6, 3, 1, 7, 4, 0, 2, 5, 8, 9, 4, 4, 4, 4, 4, 4, 6, 7, 1, 3, 4, 4, 4, 0, 4, 8, 7, 2, 5, 6, 6, 6, 6, 4, 9, 1, 0, 4, 3, 7, 6, 4, 8, 0, 2, 5, 7, 1, 9, 9, 9, 9, 4, 6, 3, 3, 3, 3, 9, 4, 4, 4, 7, 4, 0, 0, 0, 0, 3, 8, 1, 2, 5, 4, 7, 7, 7, 6, 7, 0, 9, 4, 3, 8, 1, 7, 7, 7, 7, 4, 6, 0, 0, 0, 0, 0, 0, 0, 0, 0, 0, 2, 5, 4, 9, 7, 0, 1, 4, 3, 8, 6, 7, 4, 0, 2, 5, 9, 1, 4, 4, 4, 4, 4, 4, 4, 4, 4, 4, 4, 4, 4, 4, 7, 6, 3, 8, 4, 0, 4, 7, 2, 5, 1, 4, 4, 4, 4, 4, 4, 4, 4, 4, 4, 4, 4, 4, 4, 4, 4, 4, 4, 4, 9, 6, 4, 4, 4, 4, 4, 4, 0, 3, 3, 3, 3, 8, 4, 4, 4, 4, 4, 4, 4, 4, 4, 4, 4, 4, 4, 4, 4, 4, 4, 4, 4, 4, 4, 4, 4, 4, 4, 7, 3, 4, 1, 6, 2, 5, 0, 9, 4, 4, 4, 7, 4, 8, 4, 3, 7, 0, 1, 6, 4, 2, 5, 9]\n"
          ],
          "name": "stdout"
        }
      ]
    },
    {
      "cell_type": "code",
      "metadata": {
        "colab": {
          "base_uri": "https://localhost:8080/"
        },
        "id": "L8tAU3NfRydY",
        "outputId": "c6e9bceb-31c3-4538-93b5-c316ebe96e44"
      },
      "source": [
        "print(number_of_selections)\n",
        "# sum of this will always be equal to N"
      ],
      "execution_count": 5,
      "outputs": [
        {
          "output_type": "stream",
          "text": [
            "[109, 79, 53, 68, 287, 53, 86, 140, 64, 61]\n"
          ],
          "name": "stdout"
        }
      ]
    },
    {
      "cell_type": "code",
      "metadata": {
        "colab": {
          "base_uri": "https://localhost:8080/"
        },
        "id": "nuV0CKajSQ70",
        "outputId": "6b302174-9faa-4b96-d627-aec28dede734"
      },
      "source": [
        "print(sums_of_rewards)\n",
        "# this will be the sum of rewards collected by each ad"
      ],
      "execution_count": 6,
      "outputs": [
        {
          "output_type": "stream",
          "text": [
            "[17, 8, 1, 5, 79, 1, 10, 27, 4, 3]\n"
          ],
          "name": "stdout"
        }
      ]
    },
    {
      "cell_type": "code",
      "metadata": {
        "colab": {
          "base_uri": "https://localhost:8080/",
          "height": 621
        },
        "id": "fPCkQxbJSfF_",
        "outputId": "a10a2a81-486a-45d6-852a-13f2febc5e05"
      },
      "source": [
        "plt.figure(figsize=(10,10))\n",
        "plt.bar(['1','2','3','4','5', '6', '7', '8', '9', '10'],sums_of_rewards)\n",
        "plt.title('Rewards collected by each ad')\n",
        "plt.xlabel('Ad number')\n",
        "plt.ylabel('Rewards generated by each ad')\n",
        "plt.show()\n"
      ],
      "execution_count": 7,
      "outputs": [
        {
          "output_type": "display_data",
          "data": {
            "image/png": "[encoded data removed]",
            "text/plain": [
              "<Figure size 720x720 with 1 Axes>"
            ]
          },
          "metadata": {
            "tags": [],
            "needs_background": "light"
          }
        }
      ]
    },
    {
      "cell_type": "code",
      "metadata": {
        "colab": {
          "base_uri": "https://localhost:8080/",
          "height": 621
        },
        "id": "4GqSLe39T1n-",
        "outputId": "a999d8c8-2ca8-48f8-aba9-82ffe5b73e6c"
      },
      "source": [
        "plt.figure(figsize=(10,10))\n",
        "plt.bar(['1','2','3','4','5', '6', '7', '8', '9', '10'],number_of_selections)\n",
        "plt.title('Number of times each ad was selected')\n",
        "plt.xlabel('Ad number')\n",
        "plt.ylabel('Number')\n",
        "plt.show()"
      ],
      "execution_count": 8,
      "outputs": [
        {
          "output_type": "display_data",
          "data": {
            "image/png": "[encoded data removed]",
            "text/plain": [
              "<Figure size 720x720 with 1 Axes>"
            ]
          },
          "metadata": {
            "tags": [],
            "needs_background": "light"
          }
        }
      ]
    },
    {
      "cell_type": "markdown",
      "metadata": {
        "id": "bLa-SedBUJFy"
      },
      "source": [
        "In conclusion, Ad number 5 was the ad which generated the most clicks by the user. This ad can easily be substituted with terms like machines or photos etc"
      ]
    },
    {
      "cell_type": "markdown",
      "metadata": {
        "id": "DEQcrnHjVLHJ"
      },
      "source": [
        "Conclusion generated by me in the above algorithm - \n",
        "- ads_selected  \n",
        "- total \n",
        "\n",
        "these variables are not very important to implement UCB.  Main algorithm uses only 4 variables - N, d, number_of_selection(*Ni(n))* and sums_of_rewards (*Ri(n)*) which is used in the algo\n",
        "\n",
        "Second conclusion - we can also use ads_selected to find the ad which was selected highest number of time by plotting a histogram of it. \n",
        "\n"
      ]
    }
  ]
}